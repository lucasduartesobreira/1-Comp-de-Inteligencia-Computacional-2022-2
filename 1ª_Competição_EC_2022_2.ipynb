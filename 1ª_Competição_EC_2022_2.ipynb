{
  "cells": [
    {
      "cell_type": "markdown",
      "metadata": {
        "id": "view-in-github",
        "colab_type": "text"
      },
      "source": [
        "<a href=\"https://colab.research.google.com/github/lucasduartesobreira/1-Comp-de-Inteligencia-Computacional-2022-2/blob/main/1%C2%AA_Competi%C3%A7%C3%A3o_EC_2022_2.ipynb\" target=\"_parent\"><img src=\"https://colab.research.google.com/assets/colab-badge.svg\" alt=\"Open In Colab\"/></a>"
      ]
    },
    {
      "cell_type": "code",
      "execution_count": null,
      "id": "b0f10a76",
      "metadata": {
        "_cell_guid": "b1076dfc-b9ad-4769-8c92-a6c4dae69d19",
        "_uuid": "8f2839f25d086af736a60e9eeb907d3b93b6e0e5",
        "execution": {
          "iopub.execute_input": "2022-12-10T23:52:59.254331Z",
          "iopub.status.busy": "2022-12-10T23:52:59.253459Z",
          "iopub.status.idle": "2022-12-10T23:52:59.267739Z",
          "shell.execute_reply": "2022-12-10T23:52:59.266326Z"
        },
        "papermill": {
          "duration": 0.027081,
          "end_time": "2022-12-10T23:52:59.270896",
          "exception": false,
          "start_time": "2022-12-10T23:52:59.243815",
          "status": "completed"
        },
        "tags": [],
        "id": "b0f10a76",
        "outputId": "ef9aab51-c16d-433c-cc58-14836b888bb9"
      },
      "outputs": [
        {
          "name": "stdout",
          "output_type": "stream",
          "text": [
            "/kaggle/input/competicao-um-ic/train.csv\n",
            "/kaggle/input/competicao-um-ic/test.csv\n"
          ]
        }
      ],
      "source": [
        "# This Python 3 environment comes with many helpful analytics libraries installed\n",
        "# It is defined by the kaggle/python Docker image: https://github.com/kaggle/docker-python\n",
        "# For example, here's several helpful packages to load\n",
        "\n",
        "import numpy as np # linear algebra\n",
        "import pandas as pd # data processing, CSV file I/O (e.g. pd.read_csv)\n",
        "\n",
        "# Input data files are available in the read-only \"../input/\" directory\n",
        "# For example, running this (by clicking run or pressing Shift+Enter) will list all files under the input directory\n",
        "\n",
        "import os\n",
        "for dirname, _, filenames in os.walk('/kaggle/input'):\n",
        "    for filename in filenames:\n",
        "        print(os.path.join(dirname, filename))\n",
        "\n",
        "# You can write up to 20GB to the current directory (/kaggle/working/) that gets preserved as output when you create a version using \"Save & Run All\" \n",
        "# You can also write temporary files to /kaggle/temp/, but they won't be saved outside of the current session"
      ]
    },
    {
      "cell_type": "code",
      "execution_count": null,
      "id": "b689f7d6",
      "metadata": {
        "execution": {
          "iopub.execute_input": "2022-12-10T23:52:59.281082Z",
          "iopub.status.busy": "2022-12-10T23:52:59.280646Z",
          "iopub.status.idle": "2022-12-10T23:53:05.193153Z",
          "shell.execute_reply": "2022-12-10T23:53:05.191917Z"
        },
        "papermill": {
          "duration": 5.920929,
          "end_time": "2022-12-10T23:53:05.196292",
          "exception": false,
          "start_time": "2022-12-10T23:52:59.275363",
          "status": "completed"
        },
        "tags": [],
        "id": "b689f7d6",
        "outputId": "e7787b3f-6699-4c73-d4cb-88282bd3a0ef"
      },
      "outputs": [
        {
          "name": "stderr",
          "output_type": "stream",
          "text": [
            "/opt/conda/lib/python3.7/site-packages/IPython/core/interactiveshell.py:3552: DtypeWarning: Columns (11) have mixed types.Specify dtype option on import or set low_memory=False.\n",
            "  exec(code_obj, self.user_global_ns, self.user_ns)\n"
          ]
        }
      ],
      "source": [
        "df_train = pd.read_csv('/kaggle/input/competicao-um-ic/train.csv')\n",
        "df_test = pd.read_csv('/kaggle/input/competicao-um-ic/test.csv')"
      ]
    },
    {
      "cell_type": "code",
      "source": [
        "!pip install sweetviz\n",
        "import sweetviz as sv\n",
        "\n",
        "d_train = df_train\n",
        "d_train['DS_STATUS_ITEM'] = d_train['DS_STATUS_ITEM'].replace({'Negado':1, 'Autorizado':0})"
      ],
      "metadata": {
        "id": "pJ6Ryl0qKRTT"
      },
      "id": "pJ6Ryl0qKRTT",
      "execution_count": null,
      "outputs": []
    },
    {
      "cell_type": "code",
      "source": [
        "my_report = sv.analyze(d_train, target_feat='DS_STATUS_ITEM')\n",
        "my_report.show_html()\n",
        "my_report.show_notebook()"
      ],
      "metadata": {
        "id": "08tEyEhiKrWT"
      },
      "id": "08tEyEhiKrWT",
      "execution_count": null,
      "outputs": []
    },
    {
      "cell_type": "code",
      "execution_count": null,
      "id": "272de8e0",
      "metadata": {
        "execution": {
          "iopub.execute_input": "2022-12-10T23:53:05.207563Z",
          "iopub.status.busy": "2022-12-10T23:53:05.207150Z",
          "iopub.status.idle": "2022-12-10T23:53:05.219800Z",
          "shell.execute_reply": "2022-12-10T23:53:05.218407Z"
        },
        "papermill": {
          "duration": 0.020447,
          "end_time": "2022-12-10T23:53:05.222218",
          "exception": false,
          "start_time": "2022-12-10T23:53:05.201771",
          "status": "completed"
        },
        "tags": [],
        "id": "272de8e0"
      },
      "outputs": [],
      "source": [
        "def preproc(df):\n",
        "    df['DT_NASCIMENTO'] = df['DT_NASCIMENTO'].fillna(df['DT_NASCIMENTO'].median())\n",
        "\n",
        "    df['DS_TIPO_ACOMODACAO'] = df['DS_TIPO_ACOMODACAO'].fillna('NAO SE APLICA')\n",
        "\n",
        "    df['DS_TIPO_INTERNACAO'] = df['DS_TIPO_INTERNACAO'].fillna('NAO SE APLICA')\n",
        "\n",
        "    df['DS_TIPO_CONSULTA'] = df['DS_TIPO_CONSULTA'].fillna('NAO SE APLICA')\n",
        "\n",
        "    df['DS_UNIDADE_TEMPO_DOENCA'] = df['DS_UNIDADE_TEMPO_DOENCA'].fillna('dias')\n",
        "    \n",
        "    df['QT_TEMPO_DOENCA'] = df['QT_TEMPO_DOENCA'].fillna(0)\n",
        "    \n",
        "    df['QT_DIA_SOLICITADO'] = df['QT_DIA_SOLICITADO'].fillna(0)\n",
        "\n",
        "    df['DS_TIPO_ATENDIMENTO'] = df['DS_TIPO_ATENDIMENTO'].fillna('DESCONHECIDO')\n",
        "    \n",
        "    df['DS_INDICACAO_ACIDENTE'] = df['DS_INDICACAO_ACIDENTE'].fillna('DESCONHECIDO')\n",
        "    \n",
        "    df['CD_GUIA_REFERENCIA'] = df['CD_GUIA_REFERENCIA'].fillna(0)\n",
        "    \n",
        "    return df"
      ]
    },
    {
      "cell_type": "code",
      "execution_count": null,
      "id": "e9772258",
      "metadata": {
        "execution": {
          "iopub.execute_input": "2022-12-10T23:53:05.232542Z",
          "iopub.status.busy": "2022-12-10T23:53:05.232071Z",
          "iopub.status.idle": "2022-12-10T23:53:05.239042Z",
          "shell.execute_reply": "2022-12-10T23:53:05.237965Z"
        },
        "papermill": {
          "duration": 0.015167,
          "end_time": "2022-12-10T23:53:05.241648",
          "exception": false,
          "start_time": "2022-12-10T23:53:05.226481",
          "status": "completed"
        },
        "tags": [],
        "id": "e9772258"
      },
      "outputs": [],
      "source": [
        "def textcolumns(df):\n",
        "    df['TAMANHO_DS_ITEM'] = df['DS_ITEM'].map(lambda s: len(str(s)))\n",
        "    df['TAMANHO_DS_CLASSE'] = df['DS_CLASSE'].map(lambda s: len(str(s)))\n",
        "    df['TAMANHO_DS_INDICACAO_CLINICA'] = df['DS_INDICACAO_CLINICA'].fillna('').map(lambda s: len(str(s)))\n",
        "    \n",
        "    return df\n"
      ]
    },
    {
      "cell_type": "code",
      "execution_count": null,
      "id": "ff682f56",
      "metadata": {
        "execution": {
          "iopub.execute_input": "2022-12-10T23:53:05.253151Z",
          "iopub.status.busy": "2022-12-10T23:53:05.251963Z",
          "iopub.status.idle": "2022-12-10T23:53:06.498134Z",
          "shell.execute_reply": "2022-12-10T23:53:06.496941Z"
        },
        "papermill": {
          "duration": 1.25499,
          "end_time": "2022-12-10T23:53:06.500959",
          "exception": false,
          "start_time": "2022-12-10T23:53:05.245969",
          "status": "completed"
        },
        "tags": [],
        "id": "ff682f56"
      },
      "outputs": [],
      "source": [
        "from sklearn.preprocessing import StandardScaler, OneHotEncoder\n",
        "import numpy as np\n",
        "\n",
        "def standardScalerFunc(data):\n",
        "  ss = StandardScaler()\n",
        "  sstransformed = ss.fit_transform(data)\n",
        "\n",
        "  return ss, pd.DataFrame(sstransformed)\n",
        "\n",
        "def oneHotEncoderFunc(data):\n",
        "  ohe = OneHotEncoder(sparse=False, handle_unknown='ignore')\n",
        "  ohetransformed = ohe.fit_transform(data)\n",
        "  \n",
        "  return ohe, pd.DataFrame(ohetransformed)"
      ]
    },
    {
      "cell_type": "code",
      "execution_count": null,
      "id": "8dedee19",
      "metadata": {
        "execution": {
          "iopub.execute_input": "2022-12-10T23:53:06.512014Z",
          "iopub.status.busy": "2022-12-10T23:53:06.511607Z",
          "iopub.status.idle": "2022-12-10T23:53:07.160766Z",
          "shell.execute_reply": "2022-12-10T23:53:07.158869Z"
        },
        "papermill": {
          "duration": 0.658118,
          "end_time": "2022-12-10T23:53:07.163650",
          "exception": false,
          "start_time": "2022-12-10T23:53:06.505532",
          "status": "completed"
        },
        "tags": [],
        "id": "8dedee19",
        "outputId": "050ef3e4-478b-4e27-f5d3-f3df086ec7eb"
      },
      "outputs": [
        {
          "name": "stdout",
          "output_type": "stream",
          "text": [
            "227122\n"
          ]
        }
      ],
      "source": [
        "df_train = preproc(df_train)\n",
        "df_train = textcolumns(df_train)\n",
        "\n",
        "features_deleted = ['NR_PRODUTO', 'DS_TIPO_SAIDA', 'NR_SEQ_REQUISICAO', 'NR_SEQ_ITEM', 'QT_TEMPO_DOENCA', 'DS_UNIDADE_TEMPO_DOENCA']\n",
        "numeric = ['QT_SOLICITADA', 'DT_REQUISICAO', 'DT_NASCIMENTO']\n",
        "categorical = ['DS_INDICACAO_ACIDENTE', 'DS_TIPO_ITEM', 'DS_TIPO_INTERNACAO', 'DS_TIPO_GUIA', 'DS_TIPO_ACOMODACAO', 'DS_TIPO_ATENDIMENTO', 'DS_TIPO_CONSULTA', 'DS_TIPO_PREST_SOLICITANTE', 'DS_GRUPO', 'DS_REGIME_INTERNACAO', 'TAMANHO_DS_INDICACAO_CLINICA', 'TAMANHO_DS_ITEM', 'TAMANHO_DS_CLASSE', 'DS_CBO']\n",
        "\n",
        "df_train_numeric = df_train[numeric]\n",
        "df_train_categorical = df_train[categorical]\n",
        "\n",
        "target = df_train['DS_STATUS_ITEM']\n",
        "\n",
        "\n",
        "X = df_train.drop(features_deleted, axis=1)\n",
        "print(len(X))\n",
        "y = target"
      ]
    },
    {
      "cell_type": "code",
      "execution_count": null,
      "id": "13444d39",
      "metadata": {
        "execution": {
          "iopub.execute_input": "2022-12-10T23:53:07.175798Z",
          "iopub.status.busy": "2022-12-10T23:53:07.173680Z",
          "iopub.status.idle": "2022-12-10T23:55:24.597961Z",
          "shell.execute_reply": "2022-12-10T23:55:24.596500Z"
        },
        "papermill": {
          "duration": 137.4327,
          "end_time": "2022-12-10T23:55:24.600909",
          "exception": false,
          "start_time": "2022-12-10T23:53:07.168209",
          "status": "completed"
        },
        "tags": [],
        "id": "13444d39"
      },
      "outputs": [],
      "source": [
        "from sklearn.model_selection import train_test_split\n",
        "from sklearn.ensemble import RandomForestClassifier\n",
        "from sklearn.metrics import classification_report, confusion_matrix, accuracy_score, f1_score\n",
        "\n",
        "X_train, X_test, y_train, y_test = train_test_split(X, y, test_size=0.2, random_state=0) # 80% training 20% test\n",
        "\n",
        "#train\n",
        "ss, x_train_ss = standardScalerFunc(X_train[numeric])\n",
        "ohe, x_train_ohe = oneHotEncoderFunc(X_train[categorical])\n",
        "\n",
        "x_train = pd.concat([x_train_ss, x_train_ohe], axis=1)\n",
        "\n",
        "#test\n",
        "x_test_ss = ss.transform(X_test[numeric])\n",
        "x_test_ohe = ohe.transform(X_test[categorical])\n",
        "\n",
        "x_test = pd.concat([pd.DataFrame(x_test_ss), pd.DataFrame(x_test_ohe)], axis=1)\n",
        "\n",
        "#classifier\n",
        "classifier = RandomForestClassifier(n_estimators=30, random_state=0, min_samples_split=4)\n",
        "classifier.fit(x_train, y_train)\n",
        "y_pred = classifier.predict(x_test)"
      ]
    },
    {
      "cell_type": "code",
      "execution_count": null,
      "id": "3d08be12",
      "metadata": {
        "execution": {
          "iopub.execute_input": "2022-12-10T23:55:24.611939Z",
          "iopub.status.busy": "2022-12-10T23:55:24.611476Z",
          "iopub.status.idle": "2022-12-10T23:55:27.166224Z",
          "shell.execute_reply": "2022-12-10T23:55:27.165214Z"
        },
        "papermill": {
          "duration": 2.564432,
          "end_time": "2022-12-10T23:55:27.170107",
          "exception": false,
          "start_time": "2022-12-10T23:55:24.605675",
          "status": "completed"
        },
        "tags": [],
        "id": "3d08be12",
        "outputId": "b770b1e4-ed04-4238-cdef-217ec36a0d4b"
      },
      "outputs": [
        {
          "name": "stdout",
          "output_type": "stream",
          "text": [
            "[[28168  2664]\n",
            " [ 5467  9126]]\n",
            "              precision    recall  f1-score   support\n",
            "\n",
            "  Autorizado       0.84      0.91      0.87     30832\n",
            "      Negado       0.77      0.63      0.69     14593\n",
            "\n",
            "    accuracy                           0.82     45425\n",
            "   macro avg       0.81      0.77      0.78     45425\n",
            "weighted avg       0.82      0.82      0.82     45425\n",
            "\n",
            "0.8210016510731976\n"
          ]
        }
      ],
      "source": [
        "print(confusion_matrix(y_test,y_pred))\n",
        "print(classification_report(y_test,y_pred))\n",
        "print(accuracy_score(y_test, y_pred))"
      ]
    },
    {
      "cell_type": "code",
      "execution_count": null,
      "id": "645cfbc3",
      "metadata": {
        "execution": {
          "iopub.execute_input": "2022-12-10T23:55:27.182216Z",
          "iopub.status.busy": "2022-12-10T23:55:27.181479Z",
          "iopub.status.idle": "2022-12-10T23:55:37.956212Z",
          "shell.execute_reply": "2022-12-10T23:55:37.955182Z"
        },
        "papermill": {
          "duration": 10.783535,
          "end_time": "2022-12-10T23:55:37.958850",
          "exception": false,
          "start_time": "2022-12-10T23:55:27.175315",
          "status": "completed"
        },
        "tags": [],
        "id": "645cfbc3"
      },
      "outputs": [],
      "source": [
        "df_test_pp = preproc(df_test)\n",
        "df_test_pp = textcolumns(df_test)\n",
        "test_ss = ss.transform(df_test_pp[numeric])\n",
        "test_ohe = ohe.transform(df_test_pp[categorical])\n",
        "\n",
        "test = pd.concat([pd.DataFrame(test_ss), pd.DataFrame(test_ohe)], axis=1)"
      ]
    },
    {
      "cell_type": "code",
      "execution_count": null,
      "id": "e7b074a5",
      "metadata": {
        "execution": {
          "iopub.execute_input": "2022-12-10T23:55:37.970336Z",
          "iopub.status.busy": "2022-12-10T23:55:37.969625Z",
          "iopub.status.idle": "2022-12-10T23:55:47.439400Z",
          "shell.execute_reply": "2022-12-10T23:55:47.437871Z"
        },
        "papermill": {
          "duration": 9.478844,
          "end_time": "2022-12-10T23:55:47.442298",
          "exception": false,
          "start_time": "2022-12-10T23:55:37.963454",
          "status": "completed"
        },
        "tags": [],
        "id": "e7b074a5"
      },
      "outputs": [],
      "source": [
        "pred = classifier.predict(test)"
      ]
    },
    {
      "cell_type": "code",
      "execution_count": null,
      "id": "ad9a6d7e",
      "metadata": {
        "execution": {
          "iopub.execute_input": "2022-12-10T23:55:47.648246Z",
          "iopub.status.busy": "2022-12-10T23:55:47.647833Z",
          "iopub.status.idle": "2022-12-10T23:55:48.033677Z",
          "shell.execute_reply": "2022-12-10T23:55:48.032359Z"
        },
        "papermill": {
          "duration": 0.395523,
          "end_time": "2022-12-10T23:55:48.036658",
          "exception": false,
          "start_time": "2022-12-10T23:55:47.641135",
          "status": "completed"
        },
        "tags": [],
        "id": "ad9a6d7e"
      },
      "outputs": [],
      "source": [
        "from itertools import zip_longest\n",
        "submission = pd.DataFrame.from_records(zip_longest(df_test['Unnamed: 0'], pred), columns=['ID', 'DS_STATUS_ITEM'])\n",
        "\n",
        "submission.set_index('ID').to_csv('submission.csv')"
      ]
    },
    {
      "cell_type": "code",
      "execution_count": null,
      "id": "cbc7aa88",
      "metadata": {
        "execution": {
          "iopub.execute_input": "2022-12-10T23:55:48.049325Z",
          "iopub.status.busy": "2022-12-10T23:55:48.048417Z",
          "iopub.status.idle": "2022-12-10T23:55:48.062114Z",
          "shell.execute_reply": "2022-12-10T23:55:48.060735Z"
        },
        "papermill": {
          "duration": 0.022561,
          "end_time": "2022-12-10T23:55:48.064464",
          "exception": false,
          "start_time": "2022-12-10T23:55:48.041903",
          "status": "completed"
        },
        "tags": [],
        "id": "cbc7aa88",
        "outputId": "fffbd2a3-6f39-4352-9ae7-6f6a1f608c68"
      },
      "outputs": [
        {
          "data": {
            "text/html": [
              "<div>\n",
              "<style scoped>\n",
              "    .dataframe tbody tr th:only-of-type {\n",
              "        vertical-align: middle;\n",
              "    }\n",
              "\n",
              "    .dataframe tbody tr th {\n",
              "        vertical-align: top;\n",
              "    }\n",
              "\n",
              "    .dataframe thead th {\n",
              "        text-align: right;\n",
              "    }\n",
              "</style>\n",
              "<table border=\"1\" class=\"dataframe\">\n",
              "  <thead>\n",
              "    <tr style=\"text-align: right;\">\n",
              "      <th></th>\n",
              "      <th>ID</th>\n",
              "      <th>DS_STATUS_ITEM</th>\n",
              "    </tr>\n",
              "  </thead>\n",
              "  <tbody>\n",
              "    <tr>\n",
              "      <th>0</th>\n",
              "      <td>0</td>\n",
              "      <td>Negado</td>\n",
              "    </tr>\n",
              "    <tr>\n",
              "      <th>1</th>\n",
              "      <td>5</td>\n",
              "      <td>Autorizado</td>\n",
              "    </tr>\n",
              "    <tr>\n",
              "      <th>2</th>\n",
              "      <td>8</td>\n",
              "      <td>Negado</td>\n",
              "    </tr>\n",
              "    <tr>\n",
              "      <th>3</th>\n",
              "      <td>13</td>\n",
              "      <td>Autorizado</td>\n",
              "    </tr>\n",
              "    <tr>\n",
              "      <th>4</th>\n",
              "      <td>18</td>\n",
              "      <td>Negado</td>\n",
              "    </tr>\n",
              "    <tr>\n",
              "      <th>...</th>\n",
              "      <td>...</td>\n",
              "      <td>...</td>\n",
              "    </tr>\n",
              "    <tr>\n",
              "      <th>186139</th>\n",
              "      <td>413210</td>\n",
              "      <td>Autorizado</td>\n",
              "    </tr>\n",
              "    <tr>\n",
              "      <th>186140</th>\n",
              "      <td>413218</td>\n",
              "      <td>Autorizado</td>\n",
              "    </tr>\n",
              "    <tr>\n",
              "      <th>186141</th>\n",
              "      <td>413221</td>\n",
              "      <td>Autorizado</td>\n",
              "    </tr>\n",
              "    <tr>\n",
              "      <th>186142</th>\n",
              "      <td>413248</td>\n",
              "      <td>Autorizado</td>\n",
              "    </tr>\n",
              "    <tr>\n",
              "      <th>186143</th>\n",
              "      <td>413259</td>\n",
              "      <td>Autorizado</td>\n",
              "    </tr>\n",
              "  </tbody>\n",
              "</table>\n",
              "<p>186144 rows × 2 columns</p>\n",
              "</div>"
            ],
            "text/plain": [
              "            ID DS_STATUS_ITEM\n",
              "0            0         Negado\n",
              "1            5     Autorizado\n",
              "2            8         Negado\n",
              "3           13     Autorizado\n",
              "4           18         Negado\n",
              "...        ...            ...\n",
              "186139  413210     Autorizado\n",
              "186140  413218     Autorizado\n",
              "186141  413221     Autorizado\n",
              "186142  413248     Autorizado\n",
              "186143  413259     Autorizado\n",
              "\n",
              "[186144 rows x 2 columns]"
            ]
          },
          "execution_count": 13,
          "metadata": {},
          "output_type": "execute_result"
        }
      ],
      "source": [
        "submission"
      ]
    }
  ],
  "metadata": {
    "kernelspec": {
      "display_name": "Python 3",
      "language": "python",
      "name": "python3"
    },
    "language_info": {
      "codemirror_mode": {
        "name": "ipython",
        "version": 3
      },
      "file_extension": ".py",
      "mimetype": "text/x-python",
      "name": "python",
      "nbconvert_exporter": "python",
      "pygments_lexer": "ipython3",
      "version": "3.7.12"
    },
    "papermill": {
      "default_parameters": {},
      "duration": 179.458193,
      "end_time": "2022-12-10T23:55:49.395311",
      "environment_variables": {},
      "exception": null,
      "input_path": "__notebook__.ipynb",
      "output_path": "__notebook__.ipynb",
      "parameters": {},
      "start_time": "2022-12-10T23:52:49.937118",
      "version": "2.3.4"
    },
    "colab": {
      "provenance": [],
      "include_colab_link": true
    }
  },
  "nbformat": 4,
  "nbformat_minor": 5
}